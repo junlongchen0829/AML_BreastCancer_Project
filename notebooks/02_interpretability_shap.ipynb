{
 "cells": [
  {
   "cell_type": "markdown",
   "id": "8fcbf8d4",
   "metadata": {},
   "source": [
    "# 🔍 SHAP Interpretability - Breast Cancer Classifier\n",
    "\n",
    "This notebook uses SHAP (SHapley Additive exPlanations) to explain the predictions of a trained Random Forest model on the breast cancer dataset."
   ]
  },
  {
   "cell_type": "markdown",
   "id": "46abe195",
   "metadata": {},
   "source": [
    "## 1. 📦 Load Model and Prepare Data"
   ]
  },
  {
   "cell_type": "code",
   "execution_count": 1,
   "id": "64bdd449",
   "metadata": {},
   "outputs": [
    {
     "ename": "ModuleNotFoundError",
     "evalue": "No module named 'shap'",
     "output_type": "error",
     "traceback": [
      "\u001b[31m---------------------------------------------------------------------------\u001b[39m",
      "\u001b[31mModuleNotFoundError\u001b[39m                       Traceback (most recent call last)",
      "\u001b[36mCell\u001b[39m\u001b[36m \u001b[39m\u001b[32mIn[1]\u001b[39m\u001b[32m, line 3\u001b[39m\n\u001b[32m      1\u001b[39m \u001b[38;5;28;01mimport\u001b[39;00m \u001b[34;01mpandas\u001b[39;00m \u001b[38;5;28;01mas\u001b[39;00m \u001b[34;01mpd\u001b[39;00m\n\u001b[32m      2\u001b[39m \u001b[38;5;28;01mimport\u001b[39;00m \u001b[34;01mnumpy\u001b[39;00m \u001b[38;5;28;01mas\u001b[39;00m \u001b[34;01mnp\u001b[39;00m\n\u001b[32m----> \u001b[39m\u001b[32m3\u001b[39m \u001b[38;5;28;01mimport\u001b[39;00m \u001b[34;01mshap\u001b[39;00m\n\u001b[32m      4\u001b[39m \u001b[38;5;28;01mimport\u001b[39;00m \u001b[34;01mmatplotlib\u001b[39;00m\u001b[34;01m.\u001b[39;00m\u001b[34;01mpyplot\u001b[39;00m \u001b[38;5;28;01mas\u001b[39;00m \u001b[34;01mplt\u001b[39;00m\n\u001b[32m      5\u001b[39m \u001b[38;5;28;01mimport\u001b[39;00m \u001b[34;01mjoblib\u001b[39;00m\n",
      "\u001b[31mModuleNotFoundError\u001b[39m: No module named 'shap'"
     ]
    }
   ],
   "source": [
    "import pandas as pd\n",
    "import numpy as np\n",
    "import shap\n",
    "import matplotlib.pyplot as plt\n",
    "import joblib\n",
    "from sklearn.datasets import load_breast_cancer\n",
    "from sklearn.preprocessing import StandardScaler\n",
    "from sklearn.feature_selection import SelectKBest, f_classif\n",
    "\n",
    "# Load data\n",
    "data = load_breast_cancer()\n",
    "X = pd.DataFrame(data.data, columns=data.feature_names)\n",
    "y = pd.Series(data.target)\n",
    "\n",
    "# Scale and select top 10 features (same as training)\n",
    "scaler = StandardScaler()\n",
    "X_scaled = scaler.fit_transform(X)\n",
    "selector = SelectKBest(score_func=f_classif, k=10)\n",
    "X_selected = selector.fit_transform(X_scaled, y)\n",
    "selected_features = X.columns[selector.get_support()]\n",
    "X_named = pd.DataFrame(X_selected, columns=selected_features)\n",
    "\n",
    "# Load model\n",
    "model = joblib.load(\"random_forest_model.joblib\")\n"
   ]
  },
  {
   "cell_type": "markdown",
   "id": "f057b2b9",
   "metadata": {},
   "source": [
    "## 2. 📊 SHAP Summary Plot"
   ]
  },
  {
   "cell_type": "code",
   "execution_count": null,
   "id": "9ce098d4",
   "metadata": {},
   "outputs": [],
   "source": [
    "explainer = shap.TreeExplainer(model)\n",
    "shap_values = explainer.shap_values(X_named)\n",
    "\n",
    "# Bar summary\n",
    "shap.summary_plot(shap_values[1], X_named, plot_type='bar')\n"
   ]
  },
  {
   "cell_type": "markdown",
   "id": "282dfed4",
   "metadata": {},
   "source": [
    "## 3. 🔬 SHAP Force Plot (Explain One Prediction)"
   ]
  },
  {
   "cell_type": "code",
   "execution_count": null,
   "id": "c3941268",
   "metadata": {},
   "outputs": [],
   "source": [
    "# Explain one prediction\n",
    "shap.initjs()\n",
    "sample_index = 0\n",
    "shap.force_plot(explainer.expected_value[1], shap_values[1][sample_index], X_named.iloc[sample_index])\n"
   ]
  }
 ],
 "metadata": {
  "kernelspec": {
   "display_name": "Python 3 (ipykernel)",
   "language": "python",
   "name": "python3"
  },
  "language_info": {
   "codemirror_mode": {
    "name": "ipython",
    "version": 3
   },
   "file_extension": ".py",
   "mimetype": "text/x-python",
   "name": "python",
   "nbconvert_exporter": "python",
   "pygments_lexer": "ipython3",
   "version": "3.10.18"
  }
 },
 "nbformat": 4,
 "nbformat_minor": 5
}
